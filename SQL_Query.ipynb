{
 "cells": [
  {
   "cell_type": "markdown",
   "metadata": {},
   "source": [
    "# SQL Query\n",
    "Querying tables from Steam SQL database. The database was deployed on Google Cloud Platform and queried into csv files. The original database was gathered by Internet Reseach Laboratory (https://steam.internet.byu.edu/)"
   ]
  },
  {
   "cell_type": "code",
   "execution_count": 1,
   "metadata": {},
   "outputs": [],
   "source": [
    "from sqlalchemy import create_engine\n",
    "import pandas as pd"
   ]
  },
  {
   "cell_type": "code",
   "execution_count": 2,
   "metadata": {},
   "outputs": [
    {
     "data": {
      "text/plain": [
       "['Achievement_Percentages',\n",
       " 'App_ID_Info',\n",
       " 'App_ID_Info_Old',\n",
       " 'Friends',\n",
       " 'Games_1',\n",
       " 'Games_2',\n",
       " 'Games_Daily',\n",
       " 'Games_Developers',\n",
       " 'Games_Developers_Old',\n",
       " 'Games_Genres',\n",
       " 'Games_Genres_Old',\n",
       " 'Games_Publishers',\n",
       " 'Games_Publishers_Old',\n",
       " 'Groups',\n",
       " 'Player_Summaries']"
      ]
     },
     "execution_count": 2,
     "metadata": {},
     "output_type": "execute_result"
    }
   ],
   "source": [
    "# MySQL engine and connection to database\n",
    "eng = create_engine('mysql+pymysql://[username]:[password]@[database address]:[port]/[database name]')\n",
    "eng.table_names()"
   ]
  },
  {
   "cell_type": "code",
   "execution_count": 9,
   "metadata": {
    "scrolled": false
   },
   "outputs": [
    {
     "name": "stdout",
     "output_type": "stream",
     "text": [
      "<class 'pandas.core.frame.DataFrame'>\n",
      "RangeIndex: 444058 entries, 0 to 444057\n",
      "Data columns (total 3 columns):\n",
      "PlayerID        444058 non-null int64\n",
      "Date_created    444057 non-null datetime64[ns]\n",
      "Country         444058 non-null object\n",
      "dtypes: datetime64[ns](1), int64(1), object(1)\n",
      "memory usage: 10.2+ MB\n"
     ]
    }
   ],
   "source": [
    "# Creating players dataframe\n",
    "sql_comd = \"SELECT steamid, timecreated, loccountrycode FROM Player_Summaries WHERE loccountrycode= 'CA'\"\n",
    "df_players = pd.read_sql_query(sql_comd, eng)\n",
    "df_players.columns = ['PlayerID', 'Date_created', 'Country']\n",
    "df_players.info()\n",
    "df_players.to_csv('...\\\\sql_players.csv')"
   ]
  },
  {
   "cell_type": "code",
   "execution_count": 19,
   "metadata": {},
   "outputs": [
    {
     "name": "stdout",
     "output_type": "stream",
     "text": [
      "<class 'pandas.core.frame.DataFrame'>\n",
      "RangeIndex: 6611959 entries, 0 to 6611958\n",
      "Data columns (total 2 columns):\n",
      "steamid_a    int64\n",
      "steamid_b    int64\n",
      "dtypes: int64(2)\n",
      "memory usage: 100.9 MB\n"
     ]
    }
   ],
   "source": [
    "# Creating friends dataframe\n",
    "sql_comd = \"SELECT steamid_a, steamid_b FROM Friends, \" \\\n",
    "           \"(SELECT steamid FROM Player_Summaries WHERE loccountrycode='CA') AS subquery \" \\\n",
    "           \"WHERE Friends.steamid_a = subquery.steamid\"\n",
    "df_friends = pd.read_sql_query(sql_comd, eng)\n",
    "df_friends.info()\n",
    "df_friends.to_csv('...\\\\sql_friends.csv')"
   ]
  },
  {
   "cell_type": "code",
   "execution_count": 3,
   "metadata": {},
   "outputs": [
    {
     "name": "stdout",
     "output_type": "stream",
     "text": [
      "<class 'pandas.core.frame.DataFrame'>\n",
      "RangeIndex: 16868038 entries, 0 to 16868037\n",
      "Data columns (total 4 columns):\n",
      "PlayerID           int64\n",
      "GameID             int64\n",
      "Playtime_2Weeks    float64\n",
      "Alltime_Played     int64\n",
      "dtypes: float64(1), int64(3)\n",
      "memory usage: 514.8 MB\n"
     ]
    }
   ],
   "source": [
    "# Creating player games dataframe\n",
    "sql_comd = \"SELECT Games_2.steamid, Games_2.appid, Games_2.playtime_2weeks, Games_2.playtime_forever FROM Games_2, \" \\\n",
    "           \"(SELECT steamid FROM Player_Summaries WHERE loccountrycode='CA') AS subquery \" \\\n",
    "           \"WHERE Games_2.steamid = subquery.steamid\"\n",
    "df_games_owned = pd.read_sql_query(sql_comd, eng)\n",
    "df_games_owned.columns = ['PlayerID', 'GameID', 'Playtime_2Weeks', 'Alltime_Played']\n",
    "df_games_owned.info()\n",
    "df_games_owned.to_csv('...\\\\sql_games_owned.csv')"
   ]
  },
  {
   "cell_type": "code",
   "execution_count": 23,
   "metadata": {},
   "outputs": [
    {
     "name": "stdout",
     "output_type": "stream",
     "text": [
      "<class 'pandas.core.frame.DataFrame'>\n",
      "RangeIndex: 17783 entries, 0 to 17782\n",
      "Data columns (total 3 columns):\n",
      "GameID            17783 non-null int64\n",
      "Type              17783 non-null object\n",
      "Is_Multiplayer    17783 non-null int64\n",
      "dtypes: int64(2), object(1)\n",
      "memory usage: 416.9+ KB\n"
     ]
    }
   ],
   "source": [
    "# Creating games info dataframe\n",
    "sql_comd = \"SELECT appid, Type, Is_Multiplayer FROM App_ID_Info\"\n",
    "df_games_info = pd.read_sql_query(sql_comd, eng)\n",
    "df_games_info.columns=['GameID', 'Type', 'Is_Multiplayer']\n",
    "df_games_info.info()\n",
    "df_games_info.to_csv('...\\\\sql_games_info.csv')"
   ]
  },
  {
   "cell_type": "code",
   "execution_count": 24,
   "metadata": {},
   "outputs": [
    {
     "name": "stdout",
     "output_type": "stream",
     "text": [
      "<class 'pandas.core.frame.DataFrame'>\n",
      "RangeIndex: 39669 entries, 0 to 39668\n",
      "Data columns (total 2 columns):\n",
      "GameID    39669 non-null int64\n",
      "Genre     39669 non-null object\n",
      "dtypes: int64(1), object(1)\n",
      "memory usage: 619.9+ KB\n"
     ]
    }
   ],
   "source": [
    "# Creating games info dataframe\n",
    "sql_comd = \"SELECT * FROM Games_Genres\"\n",
    "df_games_genre = pd.read_sql_query(sql_comd, eng)\n",
    "df_games_genre.columns=['GameID', 'Genre']\n",
    "df_games_genre.info()\n",
    "df_games_genre.to_csv('...\\\\sql_games_genre.csv')"
   ]
  }
 ],
 "metadata": {
  "kernelspec": {
   "display_name": "Python 3",
   "language": "python",
   "name": "python3"
  },
  "language_info": {
   "codemirror_mode": {
    "name": "ipython",
    "version": 3
   },
   "file_extension": ".py",
   "mimetype": "text/x-python",
   "name": "python",
   "nbconvert_exporter": "python",
   "pygments_lexer": "ipython3",
   "version": "3.7.3"
  }
 },
 "nbformat": 4,
 "nbformat_minor": 2
}
