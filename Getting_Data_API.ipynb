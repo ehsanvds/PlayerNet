{
 "cells": [
  {
   "cell_type": "markdown",
   "metadata": {},
   "source": [
    "# Getting Data API\n",
    "Requesting data from Steam Web API.\n",
    "The users IDs (SteamID) were obtained from a separate database. The IDs are used to get data about friend connections and owned games of each user on Steam gaming platform."
   ]
  },
  {
   "cell_type": "code",
   "execution_count": 15,
   "metadata": {},
   "outputs": [],
   "source": [
    "import requests\n",
    "import json\n",
    "import pandas as pd"
   ]
  },
  {
   "cell_type": "code",
   "execution_count": null,
   "metadata": {
    "scrolled": true
   },
   "outputs": [],
   "source": [
    "# Getting friend lists from Steam API\n",
    "URL = 'https://api.steampowered.com/ISteamUser/GetFriendList/v0001/'\n",
    "\n",
    "# Function Requesting data from API\n",
    "def getdata_friendlist(steamid,URL):\n",
    "    api_key = 'API Key' # this is your personal Steam API key\n",
    "    key_string = '?' + 'key=' + api_key\n",
    "    path = URL + key_string + '&steamid=' + steamid + '&relationship=friend'\n",
    "    response = requests.get(url=path)\n",
    "    return response.json()\n",
    "\n",
    "# Reading SteamIDs from a file\n",
    "filename = \"...\\players.csv\"\n",
    "df_players = pd.read_csv(filename, index_col=0)\n",
    "steamids = df_players['PlayerID']\n",
    "\n",
    "# Making dataframe of friend connections\n",
    "filename= \".../friends.csv\"\n",
    "open(filename,'a')\n",
    "\n",
    "df_friends = pd.DataFrame()\n",
    "for i in range(len(steamids)):\n",
    "    data = getdata_friendlist(str(steamids[i]),URL)\n",
    "    # checking if the profile is public\n",
    "    if data != {}:\n",
    "        # checking if the friend list is public\n",
    "        if data['friendslist']['friends'] != []:\n",
    "            df = pd.io.json.json_normalize(data['friendslist']['friends'])\n",
    "            df = df.drop('relationship', axis='columns')\n",
    "            df.columns = ['friend_since','FriendID']\n",
    "            df['PlayerID'] = steamids[i]\n",
    "        else:\n",
    "            df = pd.DataFrame({'friend_since':0,'FriendID':'none','PlayerID':steamids[i]}, index=[0])\n",
    "    else:\n",
    "        df = pd.DataFrame({'friend_since':0,'FriendID':'none','PlayerID':steamids[i]}, index=[0])\n",
    "    # saving data to a file\n",
    "    df.to_csv(filename,mode='a',header=False)\n",
    "    # printing the progress of API requests\n",
    "    if (i % 100 == 0):\n",
    "        progress = round(i/len(steamids),4)*100\n",
    "        print('%0.2f' % progress,'%, # of friends:',df.count()[0])\n",
    "filename.close()"
   ]
  },
  {
   "cell_type": "code",
   "execution_count": null,
   "metadata": {
    "scrolled": true
   },
   "outputs": [],
   "source": [
    "# Getting the list of owned games from Steam API\n",
    "URL = 'http://api.steampowered.com/IPlayerService/GetOwnedGames/v0001/'\n",
    "\n",
    "# Function Requesting data from API\n",
    "def getdata_ownedgames(steamid,URL):\n",
    "    api_key = 'API Key' # this is your personal Steam API key\n",
    "    key_string = '?' + 'key=' + api_key\n",
    "    path = URL + key_string + '&steamid=' + steamid\n",
    "    var = {'include_played_free_games':1}\n",
    "    response = requests.get(url=path, params=var)\n",
    "    return response.json()\n",
    "\n",
    "# Reading SteamIDs from a file\n",
    "filename = \"...\\players.csv\"\n",
    "df_players = pd.read_csv(filename, index_col=0)\n",
    "steamids = df_players['PlayerID']\n",
    "\n",
    "# Making dataframe of owned games\n",
    "for i in range(len(steamids)):\n",
    "    data = getdata_ownedgames(str(steamids[i]),URL)\n",
    "    # saving data asa json file\n",
    "    with open('.../SteamID_%d.json' % steamids[i],'w') as file:\n",
    "        json.dump(data,file)\n",
    "    # printing the progress of API requests\n",
    "    if (i % 100 == 0):\n",
    "        progress = round(i/len(steamids),4)*100\n",
    "        try: print('%0.2f' % progress,'%, # of games:',data['response']['game_count'])\n",
    "        except: print('%0.2f' % progress,'%, # of games:',0)"
   ]
  }
 ],
 "metadata": {
  "kernelspec": {
   "display_name": "Python 3",
   "language": "python",
   "name": "python3"
  },
  "language_info": {
   "codemirror_mode": {
    "name": "ipython",
    "version": 3
   },
   "file_extension": ".py",
   "mimetype": "text/x-python",
   "name": "python",
   "nbconvert_exporter": "python",
   "pygments_lexer": "ipython3",
   "version": "3.7.3"
  }
 },
 "nbformat": 4,
 "nbformat_minor": 2
}
