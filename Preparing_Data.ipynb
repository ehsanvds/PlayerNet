{
 "cells": [
  {
   "cell_type": "markdown",
   "metadata": {},
   "source": [
    "# Preparing Data for Network Analysis\n",
    "The data from friend connections, list of owned games, and list of game genre are used to generate a dataframe of players with their playing time in each genre."
   ]
  },
  {
   "cell_type": "code",
   "execution_count": null,
   "metadata": {},
   "outputs": [],
   "source": [
    "import numpy as np\n",
    "import pandas as pd\n",
    "\n",
    "# file paths for reading data\n",
    "path_friends = \"...\\sql_friends.csv\"\n",
    "path_games_owned = \"...\\sql_games_owned.csv\"\n",
    "path_games_genre = \"...\\sql_games_genre.csv\""
   ]
  },
  {
   "cell_type": "code",
   "execution_count": null,
   "metadata": {},
   "outputs": [],
   "source": [
    "# Creating dataframe of playing time based on genre\n",
    "# reading friend connections\n",
    "df = pd.read_csv(path_friends)\n",
    "df = df.drop('Unnamed: 0', axis='columns')\n",
    "\n",
    "# reading list of owned games\n",
    "df_games_owned = pd.read_csv(path_games_owned)\n",
    "df_games_owned = df_games_owned.drop('Unnamed: 0', axis='columns')\n",
    "df_games_owned.set_index(['PlayerID'], inplace=True)\n",
    "\n",
    "# reading genre of games\n",
    "df_games_genre = pd.read_csv(path_games_genre)\n",
    "df_games_genre = df_games_genre.drop('Unnamed: 0', axis='columns')\n",
    "df_games_genre.set_index(['GameID'], inplace=True)\n",
    "\n",
    "# creating a dataframe of players\n",
    "all_players =  np.unique(np.append(df['steamid_a'].unique(),df['steamid_b'].unique()))\n",
    "df_pltime = pd.DataFrame(all_players, columns=['PlayerID'])\n",
    "\n",
    "# list of genres considred in the analysis\n",
    "list_genre = ['Action', 'Free to Play', 'Strategy', 'Adventure', 'Indie', 'RPG', 'Casual', \\\n",
    "              'Simulation', 'Racing', 'Massively Multiplayer', 'Sports', 'Early Access']\n",
    "\n",
    "# creating a full dataframe including genres\n",
    "for genre in list_genre:\n",
    "    df_pltime[genre] = 0\n",
    "df_pltime.set_index(['PlayerID'], inplace=True)\n",
    "\n",
    "# calculating playing time in each genre\n",
    "i=0\n",
    "for player in all_players:\n",
    "    i += 1\n",
    "    # printing the progress\n",
    "    if (i % 10000 == 0) : print('%0.2f' % (i/len(all_players)*100))\n",
    "    if player in df_games_owned.index:\n",
    "        df_games_time = df_games_owned.loc[player]\n",
    "        for index, game in enumerate(pd.Series(df_games_time['GameID'])):\n",
    "            if game in df_games_genre.index:\n",
    "                list_genre = pd.Series(df_games_genre.loc[game]['Genre'])\n",
    "                for genre in list_genre:\n",
    "                    if genre in df_pltime.columns:\n",
    "                        df_pltime.loc[player][genre] += int(pd.Series(df_games_time['Alltime_Played']).iloc[index])\n",
    "                    else:\n",
    "                        continue\n",
    "            else:\n",
    "                continue\n",
    "    else:\n",
    "        continue\n",
    "# calculating the total playing time of each player\n",
    "df_pltime['Total'] = df_pltime.sum(axis = 1)\n",
    "\n",
    "# saving generated datafarme\n",
    "df_pltime.to_csv('...\\\\sql_play_time_all.csv')"
   ]
  }
 ],
 "metadata": {
  "kernelspec": {
   "display_name": "Python 3",
   "language": "python",
   "name": "python3"
  },
  "language_info": {
   "codemirror_mode": {
    "name": "ipython",
    "version": 3
   },
   "file_extension": ".py",
   "mimetype": "text/x-python",
   "name": "python",
   "nbconvert_exporter": "python",
   "pygments_lexer": "ipython3",
   "version": "3.7.3"
  }
 },
 "nbformat": 4,
 "nbformat_minor": 2
}
